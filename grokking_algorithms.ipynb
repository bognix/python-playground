{
 "cells": [
  {
   "cell_type": "markdown",
   "id": "6df4ec84-8de5-4797-b3c6-6f60aaf48d63",
   "metadata": {},
   "source": [
    "## Chapter 6 - Breadth-first Search"
   ]
  },
  {
   "cell_type": "markdown",
   "id": "dbf67138-c37b-4a5b-9fc6-f84be441482a",
   "metadata": {},
   "source": [
    "### Graph implementation"
   ]
  },
  {
   "cell_type": "code",
   "execution_count": 44,
   "id": "6219d1a9-8456-4a60-ab6b-1e83adb37816",
   "metadata": {},
   "outputs": [
    {
     "data": {
      "text/plain": [
       "(0, True)"
      ]
     },
     "execution_count": 44,
     "metadata": {},
     "output_type": "execute_result"
    }
   ],
   "source": [
    "from typing import Any, List\n",
    "from collections import deque\n",
    "\n",
    "class Vertex:\n",
    "    def __init__(self, value: Any, edges: List[\"Vertex\"] = None):\n",
    "        self.value = value\n",
    "        self.edges = list(edges) if edges else edges\n",
    "\n",
    "class Graph:\n",
    "    def __init__(self, vertices):\n",
    "        self.vertices = {}\n",
    "        for vertex in vertices:\n",
    "            self.vertices[vertex.value] = vertex.edges\n",
    "    \n",
    "    def __repr__(self):\n",
    "        out = \"\"\n",
    "        for val, edges in self.vertices.items():\n",
    "            out += (f\"vertex: {val}, neighbours: {edges}\")\n",
    "            out += \"\\n\"\n",
    "        \n",
    "        return out\n",
    "    \n",
    "    def search(self, start, end):\n",
    "        search_queue = deque()\n",
    "        search_queue += self.vertices[start]\n",
    "        searched = []\n",
    "        level = 0\n",
    "        if start == end:\n",
    "            return level, True\n",
    "        while search_queue:\n",
    "            current = search_queue.popleft()\n",
    "            if not current.value in searched:\n",
    "                if current.value == end:\n",
    "                    return level, True\n",
    "                else:\n",
    "                    search_queue += self.vertices[current.value] or []\n",
    "                    searched.append(current.value)\n",
    "        return level, False\n",
    "        \n",
    "\n",
    "anuj = Vertex(\"Anuj\")\n",
    "peggy = Vertex(\"Peggy\")\n",
    "bob = Vertex(\"Bob\", [anuj, peggy])\n",
    "alice = Vertex(\"Alice\", [peggy])\n",
    "thom = Vertex(\"Thom\")\n",
    "johnny = Vertex(\"Johhny\")\n",
    "claire = Vertex(\"Claire\", [thom, johnny])\n",
    "me = Vertex(\"ME\", [bob, claire, alice])\n",
    "\n",
    "g = Graph([me, anuj, peggy, bob, alice, thom, johnny, claire])\n",
    "\n",
    "g.search(\"ME\", \"Alice\")"
   ]
  },
  {
   "cell_type": "code",
   "execution_count": null,
   "id": "cec161ab-bbce-4773-af26-1a1baa724585",
   "metadata": {},
   "outputs": [],
   "source": []
  },
  {
   "cell_type": "code",
   "execution_count": null,
   "id": "9e5d4264-df20-476d-bbfa-736c9f0c910e",
   "metadata": {},
   "outputs": [],
   "source": []
  },
  {
   "cell_type": "code",
   "execution_count": null,
   "id": "1d5eb20f-7a01-4d8d-8d2b-be0ab5f4ab91",
   "metadata": {},
   "outputs": [],
   "source": []
  },
  {
   "cell_type": "code",
   "execution_count": null,
   "id": "a473ec2e-1812-4830-b19b-df0b9c64c30c",
   "metadata": {},
   "outputs": [],
   "source": []
  }
 ],
 "metadata": {
  "kernelspec": {
   "display_name": "Python 3 (ipykernel)",
   "language": "python",
   "name": "python3"
  },
  "language_info": {
   "codemirror_mode": {
    "name": "ipython",
    "version": 3
   },
   "file_extension": ".py",
   "mimetype": "text/x-python",
   "name": "python",
   "nbconvert_exporter": "python",
   "pygments_lexer": "ipython3",
   "version": "3.10.5"
  }
 },
 "nbformat": 4,
 "nbformat_minor": 5
}
