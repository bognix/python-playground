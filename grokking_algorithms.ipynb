{
 "cells": [
  {
   "cell_type": "markdown",
   "id": "6df4ec84-8de5-4797-b3c6-6f60aaf48d63",
   "metadata": {},
   "source": [
    "## Chapter 6 - Breadth-first Search"
   ]
  },
  {
   "cell_type": "markdown",
   "id": "dbf67138-c37b-4a5b-9fc6-f84be441482a",
   "metadata": {},
   "source": [
    "### Graph implementation"
   ]
  },
  {
   "cell_type": "code",
   "execution_count": 44,
   "id": "6219d1a9-8456-4a60-ab6b-1e83adb37816",
   "metadata": {},
   "outputs": [
    {
     "data": {
      "text/plain": [
       "(0, True)"
      ]
     },
     "execution_count": 44,
     "metadata": {},
     "output_type": "execute_result"
    }
   ],
   "source": [
    "from typing import Any, List\n",
    "from collections import deque\n",
    "\n",
    "class Vertex:\n",
    "    def __init__(self, value: Any, edges: List[\"Vertex\"] = None):\n",
    "        self.value = value\n",
    "        self.edges = list(edges) if edges else edges\n",
    "\n",
    "class Graph:\n",
    "    def __init__(self, vertices):\n",
    "        self.vertices = {}\n",
    "        for vertex in vertices:\n",
    "            self.vertices[vertex.value] = vertex.edges\n",
    "    \n",
    "    def __repr__(self):\n",
    "        out = \"\"\n",
    "        for val, edges in self.vertices.items():\n",
    "            out += (f\"vertex: {val}, neighbours: {edges}\")\n",
    "            out += \"\\n\"\n",
    "        \n",
    "        return out\n",
    "    \n",
    "    def search(self, start, end):\n",
    "        search_queue = deque()\n",
    "        search_queue += self.vertices[start]\n",
    "        searched = []\n",
    "        level = 0\n",
    "        if start == end:\n",
    "            return level, True\n",
    "        while search_queue:\n",
    "            current = search_queue.popleft()\n",
    "            if not current.value in searched:\n",
    "                if current.value == end:\n",
    "                    return level, True\n",
    "                else:\n",
    "                    search_queue += self.vertices[current.value] or []\n",
    "                    searched.append(current.value)\n",
    "        return level, False\n",
    "        \n",
    "\n",
    "anuj = Vertex(\"Anuj\")\n",
    "peggy = Vertex(\"Peggy\")\n",
    "bob = Vertex(\"Bob\", [anuj, peggy])\n",
    "alice = Vertex(\"Alice\", [peggy])\n",
    "thom = Vertex(\"Thom\")\n",
    "johnny = Vertex(\"Johhny\")\n",
    "claire = Vertex(\"Claire\", [thom, johnny])\n",
    "me = Vertex(\"ME\", [bob, claire, alice])\n",
    "\n",
    "g = Graph([me, anuj, peggy, bob, alice, thom, johnny, claire])\n",
    "\n",
    "g.search(\"ME\", \"Alice\")"
   ]
  },
  {
   "cell_type": "markdown",
   "id": "68f1f5b8-92ed-445c-a24a-94d8d497a4a9",
   "metadata": {},
   "source": [
    "## Chapter 7 - Djikstra's algorithm"
   ]
  },
  {
   "cell_type": "markdown",
   "id": "ee47cb12-9431-42e9-9d7d-e27897cdd7e4",
   "metadata": {},
   "source": [
    "### Graph Implementation"
   ]
  },
  {
   "cell_type": "code",
   "execution_count": 18,
   "id": "1d5eb20f-7a01-4d8d-8d2b-be0ab5f4ab91",
   "metadata": {},
   "outputs": [],
   "source": [
    "graph = {\n",
    "    \"book\": {\n",
    "        \"lp\": 5,\n",
    "        \"poster\": 0\n",
    "    },\n",
    "    \"lp\": {\n",
    "        \"drums\": 20,\n",
    "        \"guitar\": 15\n",
    "    },\n",
    "    \"poster\": {\n",
    "        \"guitar\": 30,\n",
    "        \"drums\": 35\n",
    "    },\n",
    "    \"drums\": {\n",
    "        \"piano\": 10\n",
    "    },\n",
    "    \"guitar\": {\n",
    "        \"piano\": 20\n",
    "    },\n",
    "    \"piano\": {}\n",
    "}"
   ]
  },
  {
   "cell_type": "markdown",
   "id": "e44ccdad-a9fe-4379-b2d0-4db112179c02",
   "metadata": {},
   "source": [
    "### Setup"
   ]
  },
  {
   "cell_type": "code",
   "execution_count": 19,
   "id": "640ae2cb-f25b-4580-b165-a1caa74551a2",
   "metadata": {},
   "outputs": [
    {
     "data": {
      "text/plain": [
       "({'book': inf,\n",
       "  'lp': inf,\n",
       "  'poster': inf,\n",
       "  'drums': inf,\n",
       "  'guitar': inf,\n",
       "  'piano': inf},\n",
       " {'book': None,\n",
       "  'lp': None,\n",
       "  'poster': None,\n",
       "  'drums': None,\n",
       "  'guitar': None,\n",
       "  'piano': None})"
      ]
     },
     "execution_count": 19,
     "metadata": {},
     "output_type": "execute_result"
    }
   ],
   "source": [
    "costs = {}\n",
    "parents = {}\n",
    "\n",
    "infinity = float(\"inf\")\n",
    "\n",
    "for node in graph.keys():\n",
    "    costs[node] = infinity\n",
    "\n",
    "\n",
    "for node in graph.keys():\n",
    "    parents[node] = None\n",
    "\n",
    "\n",
    "def get_lowest_cost_node(costs, processed):\n",
    "    lowest_cost = infinity\n",
    "    lowest_cost_node = None\n",
    "\n",
    "    for node in costs:\n",
    "        cost = costs[node]\n",
    "        if cost < lowest_cost and node not in processed:\n",
    "            lowest_cost = cost\n",
    "            lowest_cost_node = node\n",
    "\n",
    "    return lowest_cost_node\n",
    "\n",
    "\n",
    "costs, parents"
   ]
  },
  {
   "cell_type": "markdown",
   "id": "0dee457f-65f0-41b9-9099-4d2a6fc2fb5a",
   "metadata": {},
   "source": [
    "### The algorithm"
   ]
  },
  {
   "cell_type": "code",
   "execution_count": 20,
   "id": "7a68f440-9e3d-470c-bc8c-0cf4aed42ca1",
   "metadata": {},
   "outputs": [],
   "source": [
    "start = \"book\"\n",
    "finish = \"piano\"\n",
    "\n",
    "def find_cheapest_path(graph, start, finish):\n",
    "    \"\"\"\n",
    "    Find the cheapest path from start node to finish using Djikstra's algorithm.\n",
    "    costs and parents are the global variables\n",
    "    \"\"\"\n",
    "    # make sure each node is processed only once\n",
    "    processed = []\n",
    "    \n",
    "    # set the costs for the start node\n",
    "    for neighbor in graph[start].keys():\n",
    "        costs[neighbor] = graph[start][neighbor]\n",
    "\n",
    "    node = get_lowest_cost_node(costs, processed)\n",
    "    while node is not None:\n",
    "        cost = costs[node]\n",
    "        neighbors = graph[node]\n",
    "\n",
    "        for n in neighbors.keys():\n",
    "            new_cost = cost + neighbors[n]\n",
    "            if costs[n] > new_cost:\n",
    "                costs[n] = new_cost\n",
    "                parents[n] = node\n",
    "\n",
    "        processed.append(node)\n",
    "        node = get_lowest_cost_node(costs, processed)\n",
    "\n",
    "    ret\n",
    "\n",
    "find_cheapest_path(graph, start, finish)"
   ]
  }
 ],
 "metadata": {
  "kernelspec": {
   "display_name": "Python 3 (ipykernel)",
   "language": "python",
   "name": "python3"
  },
  "language_info": {
   "codemirror_mode": {
    "name": "ipython",
    "version": 3
   },
   "file_extension": ".py",
   "mimetype": "text/x-python",
   "name": "python",
   "nbconvert_exporter": "python",
   "pygments_lexer": "ipython3",
   "version": "3.12.1"
  }
 },
 "nbformat": 4,
 "nbformat_minor": 5
}
