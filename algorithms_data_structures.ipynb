{
 "cells": [
  {
   "cell_type": "markdown",
   "id": "79ea0884-e452-48e8-bdd1-642b758bb1a6",
   "metadata": {},
   "source": [
    "# Algorithms and Data Structures Tutorial - Full Course for Beginners\n",
    "\n",
    "[YouTube Link](https://www.youtube.com/watch?v=8hly31xKli0)"
   ]
  },
  {
   "cell_type": "markdown",
   "id": "fe1fe8d6-eeda-43bc-8ecc-3de71b1796db",
   "metadata": {},
   "source": [
    "## Search Algorithms"
   ]
  },
  {
   "cell_type": "markdown",
   "id": "fa6f71d0-5447-4d4d-b44e-44a8f4137628",
   "metadata": {},
   "source": [
    "### Linear Search"
   ]
  },
  {
   "cell_type": "code",
   "execution_count": null,
   "id": "fe2fad91-bebf-43fe-93b1-eb8f9bc00e4f",
   "metadata": {},
   "outputs": [],
   "source": [
    "from typing import Optional\n",
    "def linear_search(arr, target) -> Optional[int]:\n",
    "    for i in range(len(arr)):\n",
    "        if arr[i] == target:\n",
    "            return i\n",
    "    return None"
   ]
  },
  {
   "cell_type": "code",
   "execution_count": null,
   "id": "2c23b10d-3df4-4dbc-b5af-ee793b7a2885",
   "metadata": {},
   "outputs": [],
   "source": [
    "print(linear_search([1,2,3], 5))"
   ]
  },
  {
   "cell_type": "markdown",
   "id": "ed9bb39c-5b01-4757-bdbb-0c57cd967e51",
   "metadata": {},
   "source": [
    "### Binary Search\n",
    "\n",
    "Binary search only works when the input list is **sorted**"
   ]
  },
  {
   "cell_type": "code",
   "execution_count": 16,
   "id": "9163ea15-d406-4626-9de3-aabb37667c10",
   "metadata": {},
   "outputs": [],
   "source": [
    "from typing import Optional\n",
    "\n",
    "def binary_search(haystack, needle):\n",
    "\tfirst_index = 0\n",
    "\tlast_index = len(haystack) - 1\n",
    "\t\n",
    "\n",
    "\twhile first_index <= last_index:\n",
    "\t\tmiddle_index = (first_index + last_index) // 2\n",
    "\t\tmiddle = haystack[middle_index]\n",
    "\n",
    "\t\tif middle == needle:\n",
    "\t\t\treturn middle\n",
    "\t\t\n",
    "\t\tif needle > middle:\n",
    "\t\t\tfirst_index = middle_index + 1\n",
    "\t\telif needle < middle:\n",
    "\t\t\tlast_index = middle_index - 1\n",
    "\n",
    "\treturn None"
   ]
  },
  {
   "cell_type": "code",
   "execution_count": 18,
   "id": "0cd096de-6ea1-48b8-b112-3e80ccd2366f",
   "metadata": {},
   "outputs": [
    {
     "name": "stdout",
     "output_type": "stream",
     "text": [
      "4\n"
     ]
    }
   ],
   "source": [
    "print(binary_search([1,2,3,4], 4))"
   ]
  },
  {
   "cell_type": "markdown",
   "id": "e496e6aa-93b7-4739-b002-9876d0ce3e2c",
   "metadata": {},
   "source": [
    "#### Recursive Binary Search"
   ]
  },
  {
   "cell_type": "code",
   "execution_count": 13,
   "id": "1b165537-cdfd-4732-bc2a-71984bda2b30",
   "metadata": {},
   "outputs": [],
   "source": [
    "def recursive_binary_search(arr, target) -> Optional[bool]:\n",
    "    if len(arr) == 0:\n",
    "        return False\n",
    "    \n",
    "    midpoint_element = len(arr) // 2\n",
    "    midpoint_val = arr[midpoint_element]\n",
    "    \n",
    "    if midpoint_val == target:\n",
    "        return True\n",
    "    \n",
    "    if midpoint_val < target:\n",
    "        return recursive_binary_search(arr[midpoint_element+1:], target)\n",
    "    else:\n",
    "        return recursive_binary_search(arr[:midpoint_element], target)"
   ]
  },
  {
   "cell_type": "code",
   "execution_count": 15,
   "id": "fa24beb0-afba-4fda-b9fd-97232001e755",
   "metadata": {},
   "outputs": [
    {
     "name": "stdout",
     "output_type": "stream",
     "text": [
      "True\n"
     ]
    }
   ],
   "source": [
    "print(recursive_binary_search([1,2,3,4], 3))"
   ]
  },
  {
   "cell_type": "markdown",
   "id": "f2f77c38-5c37-49d2-a7da-0233b8c7140f",
   "metadata": {},
   "source": [
    "## Linked List"
   ]
  },
  {
   "cell_type": "code",
   "execution_count": 14,
   "id": "d5ebf3ac-9c1d-40d6-bb6e-961060f14f99",
   "metadata": {},
   "outputs": [
    {
     "name": "stdout",
     "output_type": "stream",
     "text": [
      "1\n"
     ]
    }
   ],
   "source": [
    "import reprlib\n",
    "\n",
    "class Node:\n",
    "    def __init__(self, data):\n",
    "        self.data = data\n",
    "        self.next = None\n",
    "    \n",
    "    def __repr__(self):\n",
    "        return f\"<Node> Data: {self.data}\"\n",
    "    \n",
    "n1 = Node(3)\n",
    "\n",
    "class LinkedList:\n",
    "    def __init__(self, head):\n",
    "        self.head = head\n",
    "    \n",
    "    def get_size(self):\n",
    "        current = self.head\n",
    "        size = 0\n",
    "        \n",
    "        while current:\n",
    "            size += 1\n",
    "            current = self.head.next\n",
    "\n",
    "        return size\n",
    "    \n",
    "    def prepend(self, node):\n",
    "        node.next = self.head\n",
    "        self.head = node\n",
    "        \n",
    "    \n",
    "    def __repr__(self):\n",
    "        txt = \"\"\n",
    "        return reprlib.repr()\n",
    "        \n",
    "\n",
    "ll = LinkedList(n1)\n",
    "print(ll.get_size())"
   ]
  },
  {
   "cell_type": "markdown",
   "id": "a002d29f-97a8-4489-b85b-f1f0f7d85440",
   "metadata": {},
   "source": [
    "## Sort Algorithms"
   ]
  },
  {
   "cell_type": "markdown",
   "id": "f41efe75-d563-40a4-b7d1-3e3226acb466",
   "metadata": {},
   "source": [
    "### Merge-sort Algorithm"
   ]
  },
  {
   "cell_type": "code",
   "execution_count": 16,
   "id": "e3194da4-cd28-48ea-af0d-b452713fd7ca",
   "metadata": {},
   "outputs": [],
   "source": [
    "def merge_sort(unsorted):\n",
    "    # exit condition\n",
    "    if len(unsorted) <= 1:\n",
    "        return unsorted\n",
    "    \n",
    "    # split unsorted in the middle\n",
    "    left, right = split(unsorted)\n",
    "    \n",
    "    left_sorted = merge_sort(left)\n",
    "    right_sorted = merge_sort(right)\n",
    "    \n",
    "    # merge and return result\n",
    "    return merge(left_sorted, right_sorted)\n",
    "\n",
    "def split(unsorted):\n",
    "    middle = len(unsorted) // 2\n",
    "    \n",
    "    return unsorted[:middle], unsorted[middle:]\n",
    "\n",
    "def merge(left, right):\n",
    "    i = 0\n",
    "    j = 0\n",
    "    result = []\n",
    "    \n",
    "    while i < len(left) and j < len(right):\n",
    "        el_i = left[i]\n",
    "        el_j = right[j]\n",
    "        \n",
    "        if el_i < el_j:\n",
    "            result.append(el_i)\n",
    "            i += 1\n",
    "        else:\n",
    "            result.append(el_j)\n",
    "            j += 1\n",
    "\n",
    "    if i < len(left):\n",
    "        result += left[i:]\n",
    "    \n",
    "    if j < len(right):\n",
    "        result += right[j:]\n",
    "\n",
    "    return result"
   ]
  },
  {
   "cell_type": "code",
   "execution_count": 33,
   "id": "0061daed-9a19-48e5-bad0-0efd2b70a781",
   "metadata": {},
   "outputs": [
    {
     "name": "stdout",
     "output_type": "stream",
     "text": [
      "[1, 6, 7, 8]\n"
     ]
    }
   ],
   "source": [
    "a = [1, 8, 7, 6]\n",
    "print(merge_sort(a))\n"
   ]
  },
  {
   "cell_type": "markdown",
   "id": "2ed16059-1146-45cd-a8e8-507048414168",
   "metadata": {},
   "source": [
    "### Merge-sort with two indexes"
   ]
  },
  {
   "cell_type": "markdown",
   "id": "6e71e474-eda3-4022-afc5-7b4866a529da",
   "metadata": {},
   "source": [
    "https://teamtreehouse.com/library/introduction-to-data-structures/alternate-versions-of-merge-sort"
   ]
  },
  {
   "cell_type": "code",
   "execution_count": 15,
   "id": "b1a9b5c6-e79d-4f0f-b9e9-5a21d8eb4953",
   "metadata": {},
   "outputs": [
    {
     "name": "stdout",
     "output_type": "stream",
     "text": [
      "[1, 6, 7, 8]\n"
     ]
    }
   ],
   "source": [
    "def merge_sort_with_indexes(unsorted, start=None, end=None):\n",
    "    # starting condition\n",
    "    # start is at the beginning of the list\n",
    "    if start == None:\n",
    "        start = 0\n",
    "    \n",
    "    # end is at the end of the list\n",
    "    if end == None:\n",
    "        end = len(unsorted) - 1\n",
    "    \n",
    "    # compute midpoint\n",
    "    # + start is required to calculate for the \"offset\" when computing the midpoint of the right half\n",
    "    # list = [1, 5, 2, 4]\n",
    "    # right_half = [2, 4]\n",
    "    # start = 2\n",
    "    # end = 3\n",
    "    # 3(end) - 2(start) = 1\n",
    "    # 1 // 2 = 0\n",
    "    # 0 + 2(start) = 2(midpoint)\n",
    "    midpoint = (end - start) // 2 + start\n",
    "    index_after_mid = midpoint + 1\n",
    "    \n",
    "    # it means we are dealing with the left_half\n",
    "    if start < midpoint:\n",
    "        merge_sort_with_indexes(unsorted, start, midpoint)\n",
    "    \n",
    "    # we are dealing with the right_half\n",
    "    # end - start != 1 -> means the part we are looking at is bigger than 1\n",
    "    # if it's bigger than 1, we can start working on the \"merge\" part, not the \"split\" part of the algorithm\n",
    "    if index_after_mid <= end and end - start != 1:\n",
    "        merge_sort_with_indexes(unsorted, index_after_mid, end)\n",
    "    \n",
    "    sorted_array = []\n",
    "    left = start\n",
    "    right = index_after_mid\n",
    "    \n",
    "    # merge values into sorted array\n",
    "    while left < index_after_mid and right <= end:\n",
    "        left_value = unsorted[left]\n",
    "        right_value = unsorted[right]\n",
    "        \n",
    "        if left_value < right_value:\n",
    "            sorted_array.append(left_value)\n",
    "            left += 1\n",
    "        else:\n",
    "            sorted_array.append(right_value)\n",
    "            right += 1\n",
    "    \n",
    "    # add the missing part (one of the halves can be longer than the other)\n",
    "    while left < index_after_mid:\n",
    "        sorted_array.append(unsorted[left])\n",
    "        left += 1\n",
    "    \n",
    "    while right <= end:\n",
    "        sorted_array.append(unsorted[right])\n",
    "        right += 1\n",
    "    \n",
    "    # change array in-place\n",
    "    sorted_index = start\n",
    "    for i in range(len(sorted_array)):\n",
    "        unsorted[sorted_index] = sorted_array[i]\n",
    "        sorted_index += 1\n",
    "    \n",
    "    return unsorted\n",
    "\n",
    "\n",
    "a = [1, 8, 7, 6]\n",
    "print(merge_sort_with_indexes(a))"
   ]
  },
  {
   "cell_type": "code",
   "execution_count": 56,
   "id": "553d6d2e-951e-4b51-a334-7c54b9331b3c",
   "metadata": {},
   "outputs": [
    {
     "name": "stdout",
     "output_type": "stream",
     "text": [
      "0 3 1 [1, 2, 5]\n",
      "0 1 0 [1]\n",
      "1 1 1 []\n",
      "2 3 2 [5]\n",
      "3 3 3 []\n",
      "[1, 2, 3, 5]\n"
     ]
    }
   ],
   "source": [
    "# my version - feels simpler\n",
    "\n",
    "def merge_sort(unsorted, start=None, end=None):\n",
    "    if start == None:\n",
    "        start = 0\n",
    "    if end == None:\n",
    "        end = len(unsorted) - 1\n",
    "    \n",
    "    midpoint = (start + end) // 2\n",
    "    after_midpoint = midpoint + 1\n",
    "    \n",
    "    print(start, end, midpoint, unsorted[start:end])\n",
    "\n",
    "    if start < midpoint:\n",
    "        merge_sort(unsorted, start, midpoint)\n",
    "    if after_midpoint <= end:\n",
    "        merge_sort(unsorted, after_midpoint, end)\n",
    "    \n",
    "    sorted_out = []\n",
    "    left = start\n",
    "    right = after_midpoint\n",
    "    \n",
    "    while left <= midpoint and right <= end:\n",
    "        left_val = unsorted[left]\n",
    "        right_val = unsorted[right]\n",
    "        \n",
    "        if left_val < right_val:\n",
    "            sorted_out.append(left_val)\n",
    "            left += 1\n",
    "        else:\n",
    "            sorted_out.append(right_val)\n",
    "            right += 1\n",
    "    \n",
    "    if left < after_midpoint:\n",
    "        sorted_out += unsorted[left:after_midpoint]\n",
    "    \n",
    "    if right <= end:\n",
    "        sorted_out += unsorted[right:]\n",
    "    \n",
    "    sorted_index = start\n",
    "\n",
    "    for i in range(len(sorted_out)):\n",
    "        unsorted[sorted_index] = sorted_out[i]\n",
    "        sorted_index += 1\n",
    "    \n",
    "    return unsorted\n",
    "\n",
    "print(merge_sort([1,2,5,3]))\n",
    "        "
   ]
  },
  {
   "cell_type": "markdown",
   "id": "0e6e0b4e-889c-4b36-8bc8-3433c62d4e5a",
   "metadata": {},
   "source": [
    "### Merge-sort with linked lists"
   ]
  },
  {
   "cell_type": "markdown",
   "id": "8baabb9d-4b57-48f0-9b6f-40df5e8b4a6a",
   "metadata": {},
   "source": [
    "TODO"
   ]
  },
  {
   "cell_type": "markdown",
   "id": "cdc0bf31-221c-4176-b76a-324ef7024c59",
   "metadata": {},
   "source": [
    "### Quick-sort algorithm"
   ]
  },
  {
   "cell_type": "code",
   "execution_count": 69,
   "id": "55377fd4-e75b-4920-9f12-a74430832ca4",
   "metadata": {},
   "outputs": [
    {
     "name": "stdout",
     "output_type": "stream",
     "text": [
      "[1, 2, 2, 3, 4, 5, 7, 7, 9]\n"
     ]
    }
   ],
   "source": [
    "import random\n",
    "\n",
    "def quick_sort(unsorted):\n",
    "    if len(unsorted) <= 1:\n",
    "        return unsorted\n",
    "    \n",
    "    pivot_index = random.randint(0, len(unsorted) - 1)\n",
    "    pivot = unsorted[pivot_index]\n",
    "    \n",
    "    left = []\n",
    "    right = []\n",
    "    \n",
    "    for i in range(len(unsorted)):\n",
    "        if i == pivot_index:\n",
    "            continue\n",
    "        \n",
    "        el = unsorted[i]\n",
    "        \n",
    "        if el < pivot:\n",
    "            left.append(el)\n",
    "        else:\n",
    "            right.append(el)\n",
    "    \n",
    "    \n",
    "    return quick_sort(left) + [pivot] + quick_sort(right)\n",
    "\n",
    "\n",
    "\n",
    "print(quick_sort([1, 2, 5, 2, 9, 3, 4,7, 7]))"
   ]
  },
  {
   "cell_type": "markdown",
   "id": "6642c9ee-5461-4a26-9ca2-2948754283e8",
   "metadata": {},
   "source": [
    "## Recursion"
   ]
  },
  {
   "cell_type": "code",
   "execution_count": null,
   "id": "9089f5f1-94f7-4e86-abf5-da0443e755f9",
   "metadata": {},
   "outputs": [
    {
     "name": "stdout",
     "output_type": "stream",
     "text": [
      "6\n"
     ]
    }
   ],
   "source": [
    "def sum(arr):\n",
    "    if len(arr) == 0:\n",
    "        return 0\n",
    "    if len(arr) == 1:\n",
    "        return arr[0]\n",
    "    \n",
    "    return arr[0] + sum(arr[1:])\n",
    "\n",
    "print(sum([1,2,3]))"
   ]
  },
  {
   "cell_type": "code",
   "execution_count": null,
   "id": "76b9d0cc-2482-4248-a2ce-36c8546713f0",
   "metadata": {},
   "outputs": [
    {
     "name": "stdout",
     "output_type": "stream",
     "text": [
      "10\n"
     ]
    }
   ],
   "source": [
    "def compute_len(arr, size=0):\n",
    "    try:\n",
    "        arr[0]\n",
    "        size += 1\n",
    "        return compute_len(arr[1:], size)\n",
    "    except IndexError:\n",
    "        return size\n",
    "\n",
    "print(compute_len([1, 2, 3, 8, 9, 9,9, 9,9, 1]))"
   ]
  },
  {
   "cell_type": "code",
   "execution_count": null,
   "id": "f5884e31-7572-4270-b2ef-d1fded860fbe",
   "metadata": {},
   "outputs": [
    {
     "name": "stdout",
     "output_type": "stream",
     "text": [
      "9\n"
     ]
    }
   ],
   "source": [
    "def find_max(arr, current_max=None):\n",
    "    try:\n",
    "        el = arr[0]\n",
    "        if current_max == None or current_max < el:\n",
    "            current_max = el\n",
    "        return find_max(arr[1:], current_max)\n",
    "    except IndexError:\n",
    "        return current_max\n",
    "\n",
    "print(find_max([1, 2, 3, 8, 9, 9,9, 9,9, 1]))"
   ]
  },
  {
   "cell_type": "code",
   "execution_count": null,
   "id": "33556a81-f41e-4f32-bb34-b70cea6de36e",
   "metadata": {},
   "outputs": [],
   "source": []
  }
 ],
 "metadata": {
  "kernelspec": {
   "display_name": "Python 3 (ipykernel)",
   "language": "python",
   "name": "python3"
  },
  "language_info": {
   "codemirror_mode": {
    "name": "ipython",
    "version": 3
   },
   "file_extension": ".py",
   "mimetype": "text/x-python",
   "name": "python",
   "nbconvert_exporter": "python",
   "pygments_lexer": "ipython3",
   "version": "3.10.5"
  },
  "toc-showmarkdowntxt": false
 },
 "nbformat": 4,
 "nbformat_minor": 5
}
